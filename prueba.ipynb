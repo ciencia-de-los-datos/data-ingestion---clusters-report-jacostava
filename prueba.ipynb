{
 "cells": [
  {
   "cell_type": "code",
   "execution_count": 125,
   "metadata": {},
   "outputs": [],
   "source": [
    "import pandas as pd"
   ]
  },
  {
   "cell_type": "code",
   "execution_count": 126,
   "metadata": {},
   "outputs": [
    {
     "data": {
      "text/html": [
       "<div>\n",
       "<style scoped>\n",
       "    .dataframe tbody tr th:only-of-type {\n",
       "        vertical-align: middle;\n",
       "    }\n",
       "\n",
       "    .dataframe tbody tr th {\n",
       "        vertical-align: top;\n",
       "    }\n",
       "\n",
       "    .dataframe thead th {\n",
       "        text-align: right;\n",
       "    }\n",
       "</style>\n",
       "<table border=\"1\" class=\"dataframe\">\n",
       "  <thead>\n",
       "    <tr style=\"text-align: right;\">\n",
       "      <th></th>\n",
       "      <th>cluster</th>\n",
       "      <th>cantidad_de_palabras_clave</th>\n",
       "      <th>porcentaje_de_palabras_clave</th>\n",
       "      <th>principales_palabras_clave</th>\n",
       "    </tr>\n",
       "  </thead>\n",
       "  <tbody>\n",
       "    <tr>\n",
       "      <th>0</th>\n",
       "      <td>1.0</td>\n",
       "      <td>105.0</td>\n",
       "      <td>15,9 %</td>\n",
       "      <td>maximum power point tracking, fuzzy-logic base...</td>\n",
       "    </tr>\n",
       "    <tr>\n",
       "      <th>1</th>\n",
       "      <td>NaN</td>\n",
       "      <td>NaN</td>\n",
       "      <td>NaN</td>\n",
       "      <td>photo-voltaic  system,  differential   evoluti...</td>\n",
       "    </tr>\n",
       "    <tr>\n",
       "      <th>2</th>\n",
       "      <td>NaN</td>\n",
       "      <td>NaN</td>\n",
       "      <td>NaN</td>\n",
       "      <td>algorithm, double-fed induction generator (dfi...</td>\n",
       "    </tr>\n",
       "    <tr>\n",
       "      <th>3</th>\n",
       "      <td>NaN</td>\n",
       "      <td>NaN</td>\n",
       "      <td>NaN</td>\n",
       "      <td>photo voltaic array, firefly algorithm, partia...</td>\n",
       "    </tr>\n",
       "    <tr>\n",
       "      <th>4</th>\n",
       "      <td>2.0</td>\n",
       "      <td>102.0</td>\n",
       "      <td>15,4 %</td>\n",
       "      <td>support vector machine,  long  short-term  mem...</td>\n",
       "    </tr>\n",
       "  </tbody>\n",
       "</table>\n",
       "</div>"
      ],
      "text/plain": [
       "   cluster  cantidad_de_palabras_clave porcentaje_de_palabras_clave  \\\n",
       "0      1.0                       105.0                       15,9 %   \n",
       "1      NaN                         NaN                          NaN   \n",
       "2      NaN                         NaN                          NaN   \n",
       "3      NaN                         NaN                          NaN   \n",
       "4      2.0                       102.0                       15,4 %   \n",
       "\n",
       "                          principales_palabras_clave  \n",
       "0  maximum power point tracking, fuzzy-logic base...  \n",
       "1  photo-voltaic  system,  differential   evoluti...  \n",
       "2  algorithm, double-fed induction generator (dfi...  \n",
       "3  photo voltaic array, firefly algorithm, partia...  \n",
       "4  support vector machine,  long  short-term  mem...  "
      ]
     },
     "execution_count": 126,
     "metadata": {},
     "output_type": "execute_result"
    }
   ],
   "source": [
    "#df = pd.read_fwf(\"clusters_report.txt\", colspecs=[(0,6),(9,23),(25,40),(41,250)])\n",
    "df = pd.read_fwf(\"clusters_report.txt\", skiprows=4, names = ['cluster','cantidad_de_palabras_clave','porcentaje_de_palabras_clave','principales_palabras_clave'])\n",
    "df.head()"
   ]
  },
  {
   "cell_type": "code",
   "execution_count": 127,
   "metadata": {},
   "outputs": [],
   "source": [
    "df.fillna(method='ffill',inplace=True)"
   ]
  },
  {
   "cell_type": "code",
   "execution_count": 128,
   "metadata": {},
   "outputs": [],
   "source": [
    "#df.principales_palabras_clave = df.principales_palabras_clave.str.split(',')\n",
    "#df"
   ]
  },
  {
   "cell_type": "code",
   "execution_count": 129,
   "metadata": {},
   "outputs": [],
   "source": [
    "#df.principales_palabras_clave.head(10)"
   ]
  },
  {
   "cell_type": "code",
   "execution_count": 130,
   "metadata": {},
   "outputs": [
    {
     "data": {
      "text/html": [
       "<div>\n",
       "<style scoped>\n",
       "    .dataframe tbody tr th:only-of-type {\n",
       "        vertical-align: middle;\n",
       "    }\n",
       "\n",
       "    .dataframe tbody tr th {\n",
       "        vertical-align: top;\n",
       "    }\n",
       "\n",
       "    .dataframe thead th {\n",
       "        text-align: right;\n",
       "    }\n",
       "</style>\n",
       "<table border=\"1\" class=\"dataframe\">\n",
       "  <thead>\n",
       "    <tr style=\"text-align: right;\">\n",
       "      <th></th>\n",
       "      <th>cluster</th>\n",
       "      <th>cantidad_de_palabras_clave</th>\n",
       "      <th>porcentaje_de_palabras_clave</th>\n",
       "      <th>principales_palabras_clave</th>\n",
       "    </tr>\n",
       "  </thead>\n",
       "  <tbody>\n",
       "    <tr>\n",
       "      <th>0</th>\n",
       "      <td>1.0</td>\n",
       "      <td>105.0</td>\n",
       "      <td>15,9 %</td>\n",
       "      <td>maximum power point tracking, fuzzy-logic base...</td>\n",
       "    </tr>\n",
       "    <tr>\n",
       "      <th>1</th>\n",
       "      <td>2.0</td>\n",
       "      <td>102.0</td>\n",
       "      <td>15,4 %</td>\n",
       "      <td>support vector machine,  long  short-term  mem...</td>\n",
       "    </tr>\n",
       "    <tr>\n",
       "      <th>2</th>\n",
       "      <td>3.0</td>\n",
       "      <td>89.0</td>\n",
       "      <td>13,4 %</td>\n",
       "      <td>smart grid, wind power, reinforcement learning...</td>\n",
       "    </tr>\n",
       "    <tr>\n",
       "      <th>3</th>\n",
       "      <td>4.0</td>\n",
       "      <td>60.0</td>\n",
       "      <td>9,1 %</td>\n",
       "      <td>wind   turbine,   fault    diagnosis,    biodi...</td>\n",
       "    </tr>\n",
       "    <tr>\n",
       "      <th>4</th>\n",
       "      <td>5.0</td>\n",
       "      <td>52.0</td>\n",
       "      <td>7,9 %</td>\n",
       "      <td>electric vehicle, lithium-ion batteries, state...</td>\n",
       "    </tr>\n",
       "    <tr>\n",
       "      <th>5</th>\n",
       "      <td>6.0</td>\n",
       "      <td>51.0</td>\n",
       "      <td>7,7 %</td>\n",
       "      <td>particle  swarm  optimization,  distribute  ge...</td>\n",
       "    </tr>\n",
       "    <tr>\n",
       "      <th>6</th>\n",
       "      <td>7.0</td>\n",
       "      <td>42.0</td>\n",
       "      <td>6,3 %</td>\n",
       "      <td>multi-objective   optimization,   energy   sto...</td>\n",
       "    </tr>\n",
       "    <tr>\n",
       "      <th>7</th>\n",
       "      <td>8.0</td>\n",
       "      <td>38.0</td>\n",
       "      <td>5,7 %</td>\n",
       "      <td>genetic algorithm, demand-side  management,  e...</td>\n",
       "    </tr>\n",
       "    <tr>\n",
       "      <th>8</th>\n",
       "      <td>9.0</td>\n",
       "      <td>35.0</td>\n",
       "      <td>5,3 %</td>\n",
       "      <td>anfis,   global   solar   irradiance,  solar  ...</td>\n",
       "    </tr>\n",
       "    <tr>\n",
       "      <th>9</th>\n",
       "      <td>10.0</td>\n",
       "      <td>27.0</td>\n",
       "      <td>4,1 %</td>\n",
       "      <td>micro grid,  multi-agent  systems,  distribute...</td>\n",
       "    </tr>\n",
       "    <tr>\n",
       "      <th>10</th>\n",
       "      <td>11.0</td>\n",
       "      <td>22.0</td>\n",
       "      <td>3,3 %</td>\n",
       "      <td>hydrogen,  biochar,  biomass,  biogas,  microb...</td>\n",
       "    </tr>\n",
       "    <tr>\n",
       "      <th>11</th>\n",
       "      <td>12.0</td>\n",
       "      <td>22.0</td>\n",
       "      <td>3,3 %</td>\n",
       "      <td>state of charge (soc) estimation,  radial  bas...</td>\n",
       "    </tr>\n",
       "    <tr>\n",
       "      <th>12</th>\n",
       "      <td>13.0</td>\n",
       "      <td>17.0</td>\n",
       "      <td>2,6 %</td>\n",
       "      <td>pem   fuel   cell,   solid-oxide  fuel  cell, ...</td>\n",
       "    </tr>\n",
       "  </tbody>\n",
       "</table>\n",
       "</div>"
      ],
      "text/plain": [
       "    cluster  cantidad_de_palabras_clave porcentaje_de_palabras_clave  \\\n",
       "0       1.0                       105.0                       15,9 %   \n",
       "1       2.0                       102.0                       15,4 %   \n",
       "2       3.0                        89.0                       13,4 %   \n",
       "3       4.0                        60.0                        9,1 %   \n",
       "4       5.0                        52.0                        7,9 %   \n",
       "5       6.0                        51.0                        7,7 %   \n",
       "6       7.0                        42.0                        6,3 %   \n",
       "7       8.0                        38.0                        5,7 %   \n",
       "8       9.0                        35.0                        5,3 %   \n",
       "9      10.0                        27.0                        4,1 %   \n",
       "10     11.0                        22.0                        3,3 %   \n",
       "11     12.0                        22.0                        3,3 %   \n",
       "12     13.0                        17.0                        2,6 %   \n",
       "\n",
       "                           principales_palabras_clave  \n",
       "0   maximum power point tracking, fuzzy-logic base...  \n",
       "1   support vector machine,  long  short-term  mem...  \n",
       "2   smart grid, wind power, reinforcement learning...  \n",
       "3   wind   turbine,   fault    diagnosis,    biodi...  \n",
       "4   electric vehicle, lithium-ion batteries, state...  \n",
       "5   particle  swarm  optimization,  distribute  ge...  \n",
       "6   multi-objective   optimization,   energy   sto...  \n",
       "7   genetic algorithm, demand-side  management,  e...  \n",
       "8   anfis,   global   solar   irradiance,  solar  ...  \n",
       "9   micro grid,  multi-agent  systems,  distribute...  \n",
       "10  hydrogen,  biochar,  biomass,  biogas,  microb...  \n",
       "11  state of charge (soc) estimation,  radial  bas...  \n",
       "12  pem   fuel   cell,   solid-oxide  fuel  cell, ...  "
      ]
     },
     "execution_count": 130,
     "metadata": {},
     "output_type": "execute_result"
    }
   ],
   "source": [
    "df = df.groupby(['cluster','cantidad_de_palabras_clave','porcentaje_de_palabras_clave'])['principales_palabras_clave'].apply(lambda x : ','.join(x.str.strip())).reset_index()\n",
    "df"
   ]
  },
  {
   "cell_type": "code",
   "execution_count": 131,
   "metadata": {},
   "outputs": [],
   "source": [
    "df.principales_palabras_clave = df.principales_palabras_clave.str.replace(',,',\", \")\n"
   ]
  },
  {
   "cell_type": "code",
   "execution_count": 132,
   "metadata": {},
   "outputs": [],
   "source": [
    "import re\n",
    "df.principales_palabras_clave = df.principales_palabras_clave.apply(lambda x: re.sub(r'(\\w),(\\w)', r'\\1 \\2', x))"
   ]
  },
  {
   "cell_type": "code",
   "execution_count": 133,
   "metadata": {},
   "outputs": [
    {
     "name": "stderr",
     "output_type": "stream",
     "text": [
      "C:\\Users\\juand\\AppData\\Local\\Temp\\ipykernel_34308\\478607794.py:3: FutureWarning: The default value of regex will change from True to False in a future version. In addition, single character regular expressions will *not* be treated as literal strings when regex=True.\n",
      "  df.principales_palabras_clave = df.principales_palabras_clave.str.replace('.',\"\")\n"
     ]
    }
   ],
   "source": [
    "df.principales_palabras_clave = df.principales_palabras_clave.str.replace('  ',\" \").str.replace('   ',\" \").str.replace('    ',\" \")\n",
    "df.principales_palabras_clave = df.principales_palabras_clave.str.replace('  ',\" \")\n",
    "df.principales_palabras_clave = df.principales_palabras_clave.str.replace('.',\"\")\n"
   ]
  },
  {
   "cell_type": "code",
   "execution_count": 134,
   "metadata": {},
   "outputs": [
    {
     "data": {
      "text/plain": [
       "array(['15,9 %', '15,4 %', '13,4 %', '9,1 %', '7,9 %', '7,7 %', '6,3 %',\n",
       "       '5,7 %', '5,3 %', '4,1 %', '3,3 %', '2,6 %'], dtype=object)"
      ]
     },
     "execution_count": 134,
     "metadata": {},
     "output_type": "execute_result"
    }
   ],
   "source": [
    "df.porcentaje_de_palabras_clave.unique()"
   ]
  },
  {
   "cell_type": "code",
   "execution_count": 135,
   "metadata": {},
   "outputs": [],
   "source": [
    "df.porcentaje_de_palabras_clave = df.porcentaje_de_palabras_clave.str.replace(\" %\",\"\",regex=False).str.replace(\",\",\".\",regex=False).astype('float')"
   ]
  },
  {
   "cell_type": "code",
   "execution_count": 136,
   "metadata": {},
   "outputs": [
    {
     "data": {
      "text/plain": [
       "[15.9, 15.4, 13.4, 9.1, 7.9, 7.7, 6.3, 5.7, 5.3, 4.1, 3.3, 3.3, 2.6]"
      ]
     },
     "execution_count": 136,
     "metadata": {},
     "output_type": "execute_result"
    }
   ],
   "source": [
    "df.porcentaje_de_palabras_clave.to_list()"
   ]
  },
  {
   "cell_type": "code",
   "execution_count": 137,
   "metadata": {},
   "outputs": [],
   "source": [
    "df.to_csv(\"ajustado.csv\")"
   ]
  }
 ],
 "metadata": {
  "kernelspec": {
   "display_name": "Python 3",
   "language": "python",
   "name": "python3"
  },
  "language_info": {
   "codemirror_mode": {
    "name": "ipython",
    "version": 3
   },
   "file_extension": ".py",
   "mimetype": "text/x-python",
   "name": "python",
   "nbconvert_exporter": "python",
   "pygments_lexer": "ipython3",
   "version": "3.9.13"
  },
  "orig_nbformat": 4
 },
 "nbformat": 4,
 "nbformat_minor": 2
}
